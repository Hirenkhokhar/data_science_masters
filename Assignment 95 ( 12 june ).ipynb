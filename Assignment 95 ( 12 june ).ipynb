{
 "cells": [
  {
   "cell_type": "markdown",
   "id": "458b63e2",
   "metadata": {},
   "source": [
    "## Part 1: Theoretical Questions"
   ]
  },
  {
   "cell_type": "markdown",
   "id": "83faf0d5",
   "metadata": {},
   "source": [
    "<b>1. What are the different data structures used in Tensorflow?. Give some examples."
   ]
  },
  {
   "cell_type": "markdown",
   "id": "03a6ab79",
   "metadata": {},
   "source": [
    "TensorFlow, a popular deep learning framework, provides several data structures for representing and manipulating data. The main data structures used in TensorFlow are:\n",
    "Tensor: A tensor is a fundamental data structure in TensorFlow. It is a multi-dimensional array or n-dimensional matrix that represents data. Tensors can be scalars (0-dimensional), vectors (1-dimensional), matrices (2-dimensional), or higher-dimensional arrays. For example, a grayscale image can be represented as a 2D tensor, while a colored image can be represented as a 3D tensor.\n",
    "\n",
    "Constant: A constant is a specific type of tensor in TensorFlow that holds a fixed value throughout the execution of a program. The value of a constant cannot be changed once it is defined. Constants are commonly used to store hyperparameters or fixed data."
   ]
  },
  {
   "cell_type": "code",
   "execution_count": 1,
   "id": "f5f71acf",
   "metadata": {},
   "outputs": [
    {
     "data": {
      "text/plain": [
       "<tf.Tensor: shape=(3,), dtype=int32, numpy=array([5, 2, 9])>"
      ]
     },
     "execution_count": 1,
     "metadata": {},
     "output_type": "execute_result"
    }
   ],
   "source": [
    "import tensorflow as tf\n",
    "x = tf.constant([5, 2, 9])\n",
    "x"
   ]
  },
  {
   "cell_type": "markdown",
   "id": "95661c2d",
   "metadata": {},
   "source": [
    "Variable: A variable is another type of tensor in TensorFlow that allows the value to be modified during the execution of a program. Variables are used to represent the trainable parameters of a model, such as weights and biases. For example:"
   ]
  },
  {
   "cell_type": "code",
   "execution_count": 2,
   "id": "8994b0a9",
   "metadata": {},
   "outputs": [
    {
     "data": {
      "text/plain": [
       "<tf.Variable 'Variable:0' shape=(2,) dtype=float32, numpy=array([6.2, 1.7], dtype=float32)>"
      ]
     },
     "execution_count": 2,
     "metadata": {},
     "output_type": "execute_result"
    }
   ],
   "source": [
    "w = tf.Variable([6.2, 1.7])\n",
    "w\n"
   ]
  },
  {
   "cell_type": "markdown",
   "id": "f18c3868",
   "metadata": {},
   "source": [
    "Placeholder: In earlier versions of TensorFlow, placeholders were used to feed data into the computation graph during training. However, in TensorFlow 2.x, placeholders have been replaced by the tf.data API and the tf.function decorator. Placeholders are no longer required for most use cases and have been deprecated.\n",
    "\n",
    "SparseTensor: A sparse tensor is used to efficiently represent tensors with a large number of zero or empty values. It stores only the non-zero elements along with their indices, which helps in reducing memory usage and computational complexity for sparse data.\n",
    "\n",
    "These data structures are the building blocks of TensorFlow and are essential for creating and manipulating tensors in TensorFlow programs."
   ]
  },
  {
   "cell_type": "markdown",
   "id": "6d65056c",
   "metadata": {},
   "source": [
    "<b>Q2. How does the TensorFlow constant differ from a TensorFlow variable? Explain with an example"
   ]
  },
  {
   "cell_type": "markdown",
   "id": "a9e03c1f",
   "metadata": {},
   "source": [
    "TensorFlow Constant:\n",
    "A constant in TensorFlow holds a fixed value throughout the execution of a program.\n",
    "\n",
    "The value of a constant cannot be changed once it is defined.\n",
    "\n",
    "Constants are typically used for storing hyperparameters or fixed data that does not need to be modified during training.\n",
    "\n",
    "Constants are immutable and do not support gradient computations for backpropagation.\n",
    "\n",
    "Constants can be created using the tf.constant() function."
   ]
  },
  {
   "cell_type": "code",
   "execution_count": 3,
   "id": "a042fe3d",
   "metadata": {},
   "outputs": [],
   "source": [
    "x = tf.constant([9, 5, 2])\n"
   ]
  },
  {
   "cell_type": "markdown",
   "id": "a21a9212",
   "metadata": {},
   "source": [
    "TensorFlow Variable:\n",
    "A variable in TensorFlow represents a tensor whose value can be modified during the execution of a program.\n",
    "\n",
    "Variables are commonly used to store the trainable parameters of a model, such as weights and biases.\n",
    "\n",
    "Variables are mutable and their values can be updated during training using optimization algorithms.\n",
    "\n",
    "Variables support gradient computations for backpropagation, allowing automatic differentiation and model optimization.\n",
    "\n",
    "Variables can be created using the tf.Variable() functio"
   ]
  },
  {
   "cell_type": "code",
   "execution_count": 4,
   "id": "e6309757",
   "metadata": {},
   "outputs": [],
   "source": [
    "w = tf.Variable([3.6, 9.8,1.2])"
   ]
  },
  {
   "cell_type": "code",
   "execution_count": 5,
   "id": "51a49636",
   "metadata": {},
   "outputs": [
    {
     "name": "stdout",
     "output_type": "stream",
     "text": [
      "constant : [9 5 2]\n",
      "variable : [3.6 9.8 1.2]\n"
     ]
    }
   ],
   "source": [
    "print(f\"constant : {x.numpy()}\")\n",
    "print(f\"variable : {w.numpy()}\")"
   ]
  },
  {
   "cell_type": "markdown",
   "id": "1165d6ae",
   "metadata": {},
   "source": [
    "<b>Q3. Describe the process of matrix addition, multiplication, and element-wise operations in TensorFlow"
   ]
  },
  {
   "cell_type": "markdown",
   "id": "ea21e343",
   "metadata": {},
   "source": [
    "Matrix Addition:\n",
    "Matrix addition is performed by adding corresponding elements of two matrices.\n",
    "\n",
    "The matrices involved in the addition operation must have the same shape (same number of rows and columns).\n",
    "\n",
    "In TensorFlow, matrix addition is performed using the tf.add() function or the + operator.\n",
    "\n",
    "The resulting matrix will have the same shape as the input matrices, and each element will be the sum of the corresponding elements from the input matrices."
   ]
  },
  {
   "cell_type": "code",
   "execution_count": 6,
   "id": "92777742",
   "metadata": {},
   "outputs": [
    {
     "name": "stdout",
     "output_type": "stream",
     "text": [
      "Matrix Addition: [[13 15]\n",
      " [11 11]]\n"
     ]
    }
   ],
   "source": [
    "A = tf.constant([[5, 9], [2, 8]])\n",
    "B = tf.constant([[8, 6], [9, 3]])\n",
    "\n",
    "# Matrix addition\n",
    "Add = tf.add(A, B)\n",
    "\n",
    "print(\"Matrix Addition:\",Add.numpy())\n"
   ]
  },
  {
   "cell_type": "markdown",
   "id": "4ebcf688",
   "metadata": {},
   "source": [
    "Matrix Multiplication:\n",
    "Matrix multiplication is performed by multiplying corresponding elements of rows from the first matrix with the corresponding elements of columns from the second matrix and summing the products.\n",
    "\n",
    "The number of columns in the first matrix must be equal to the number of rows in the second matrix for matrix multiplication to be defined.\n",
    "\n",
    "In TensorFlow, matrix multiplication is performed using the tf.matmul() function or the @ operator.\n",
    "\n",
    "The resulting matrix will have a shape of (number of rows in the first matrix, number of columns in the second matrix)."
   ]
  },
  {
   "cell_type": "code",
   "execution_count": 7,
   "id": "8c049bfe",
   "metadata": {},
   "outputs": [
    {
     "name": "stdout",
     "output_type": "stream",
     "text": [
      "Matrix Multiplication: [[121  57]\n",
      " [ 88  36]]\n"
     ]
    }
   ],
   "source": [
    "A = tf.constant([[5, 9], [2, 8]])\n",
    "B = tf.constant([[8, 6], [9, 3]])\n",
    "\n",
    "# Matrix multiplication\n",
    "mul = tf.matmul(A, B)\n",
    "\n",
    "print(\"Matrix Multiplication:\" ,mul.numpy())\n"
   ]
  },
  {
   "cell_type": "markdown",
   "id": "715356a9",
   "metadata": {},
   "source": [
    "Element-wise Operations:\n",
    "Element-wise operations are performed by applying an operation to corresponding elements of two tensors.\n",
    "\n",
    "The tensors involved in element-wise operations must have the same shape.\n",
    "\n",
    "In TensorFlow, element-wise operations are performed using various functions such as tf.add(), tf.subtract(), tf.multiply(), tf.divide(), etc.\n",
    "\n",
    "The resulting tensor will have the same shape as the input tensors, and each element will be the result of applying the operation to the corresponding elements from the input tensors."
   ]
  },
  {
   "cell_type": "code",
   "execution_count": 8,
   "id": "1c69fc08",
   "metadata": {},
   "outputs": [
    {
     "name": "stdout",
     "output_type": "stream",
     "text": [
      "Element-wise Addition:\n",
      "[9 5 1]\n",
      "Element-wise Multiplication:\n",
      "[20  6  0]\n"
     ]
    }
   ],
   "source": [
    "A = tf.constant([4, 2, 0])\n",
    "B = tf.constant([5, 3, 1])\n",
    "\n",
    "# Element-wise addition\n",
    "add = tf.add(A, B)\n",
    "\n",
    "# Element-wise multiplication\n",
    "mul = tf.multiply(A, B)\n",
    "\n",
    "print(\"Element-wise Addition:\")\n",
    "print(add.numpy())\n",
    "\n",
    "print(\"Element-wise Multiplication:\")\n",
    "print(mul.numpy())"
   ]
  },
  {
   "cell_type": "markdown",
   "id": "4bee8285",
   "metadata": {},
   "source": [
    "## Part 2: Practical Implementation"
   ]
  },
  {
   "cell_type": "markdown",
   "id": "2b1bb4fc",
   "metadata": {},
   "source": [
    "<b>Q1. Create a normal matrix A with dimensions 3x3, using TensorFlow's random_normal function. Display the values of matrix A\n"
   ]
  },
  {
   "cell_type": "code",
   "execution_count": 9,
   "id": "37750717",
   "metadata": {},
   "outputs": [
    {
     "data": {
      "text/plain": [
       "array([[-0.33042693, -0.6109597 ,  1.9144475 ],\n",
       "       [ 0.91158545, -0.95501786, -0.4260239 ],\n",
       "       [ 0.48540348, -0.98570657,  0.47623232]], dtype=float32)"
      ]
     },
     "execution_count": 9,
     "metadata": {},
     "output_type": "execute_result"
    }
   ],
   "source": [
    "A  = tf.random.normal(shape=(3,3))\n",
    "A.numpy()"
   ]
  },
  {
   "cell_type": "markdown",
   "id": "146d599a",
   "metadata": {},
   "source": [
    "<b>Q2. Create a Gaussian matrix B with dimensions 4x4, using TensorFlow's truncated_normal function. Display the values of matrix B"
   ]
  },
  {
   "cell_type": "code",
   "execution_count": 10,
   "id": "34126a11",
   "metadata": {},
   "outputs": [
    {
     "data": {
      "text/plain": [
       "array([[-1.0053284 , -1.7478458 , -0.16219774, -0.70874345],\n",
       "       [-0.20832811, -0.0351022 , -0.20884034, -0.67297107],\n",
       "       [-0.82128143, -0.1993792 , -0.12198337, -0.78588915],\n",
       "       [ 0.03800399,  1.8095676 , -0.4332796 ,  0.1822889 ]],\n",
       "      dtype=float32)"
      ]
     },
     "execution_count": 10,
     "metadata": {},
     "output_type": "execute_result"
    }
   ],
   "source": [
    "B = tf.random.truncated_normal(shape=(4, 4))\n",
    "B.numpy()"
   ]
  },
  {
   "cell_type": "markdown",
   "id": "532df45e",
   "metadata": {},
   "source": [
    "<b>Q3 3. Create a matrix C with dimensions 2x2, where the values are drawn from a normal distribution with a mean of 3 and a standard deviation of 0.5, using TensorFlow's random.normal function. Display the values of matrix C."
   ]
  },
  {
   "cell_type": "code",
   "execution_count": 11,
   "id": "329028a3",
   "metadata": {},
   "outputs": [
    {
     "data": {
      "text/plain": [
       "array([[3.5904498, 3.766258 ],\n",
       "       [2.6235225, 2.8164082]], dtype=float32)"
      ]
     },
     "execution_count": 11,
     "metadata": {},
     "output_type": "execute_result"
    }
   ],
   "source": [
    "C = tf.random.normal(shape=(2, 2), mean=3, stddev=0.5)\n",
    "C.numpy()"
   ]
  },
  {
   "cell_type": "markdown",
   "id": "058daa74",
   "metadata": {},
   "source": [
    "<b>Q4  Perform matrix addition between matrix A and matrix B, and store the result in matrix D"
   ]
  },
  {
   "cell_type": "code",
   "execution_count": 12,
   "id": "23e1785d",
   "metadata": {},
   "outputs": [
    {
     "data": {
      "text/plain": [
       "array([[13, 15],\n",
       "       [11, 11]])"
      ]
     },
     "execution_count": 12,
     "metadata": {},
     "output_type": "execute_result"
    }
   ],
   "source": [
    "A = tf.constant([[5, 9], [2, 8]])\n",
    "B = tf.constant([[8, 6], [9 ,3]])\n",
    "D = tf.add(A,B)\n",
    "D.numpy()"
   ]
  },
  {
   "cell_type": "markdown",
   "id": "420f8989",
   "metadata": {},
   "source": [
    "<b>Q5. Perform matrix multiplication between matrix C and matrix D, and store the result in matrix E"
   ]
  },
  {
   "cell_type": "code",
   "execution_count": 13,
   "id": "e923b583",
   "metadata": {},
   "outputs": [
    {
     "data": {
      "text/plain": [
       "array([[121,  57],\n",
       "       [ 88,  36]])"
      ]
     },
     "execution_count": 13,
     "metadata": {},
     "output_type": "execute_result"
    }
   ],
   "source": [
    "C = tf.constant([[5, 9], [2, 8]])\n",
    "D = tf.constant([[8, 6], [9 ,3]])\n",
    "\n",
    "E = tf.matmul(C,D)\n",
    "E.numpy()"
   ]
  },
  {
   "cell_type": "markdown",
   "id": "2f9eef4d",
   "metadata": {},
   "source": [
    "## Task 2:"
   ]
  },
  {
   "cell_type": "markdown",
   "id": "5c6423c0",
   "metadata": {},
   "source": [
    "\n",
    "<b>Q1. Create a matrix F with dimensions 3x3, initialized with random values using TensorFlow's random_uniform function."
   ]
  },
  {
   "cell_type": "code",
   "execution_count": 14,
   "id": "4b8df1c5",
   "metadata": {},
   "outputs": [
    {
     "data": {
      "text/plain": [
       "array([[0.47360432, 0.76139164, 0.8667531 ],\n",
       "       [0.22871578, 0.03727865, 0.11786652],\n",
       "       [0.25199342, 0.975832  , 0.00415921]], dtype=float32)"
      ]
     },
     "execution_count": 14,
     "metadata": {},
     "output_type": "execute_result"
    }
   ],
   "source": [
    "F = tf.random.uniform(shape=(3, 3))\n",
    "F.numpy()"
   ]
  },
  {
   "cell_type": "markdown",
   "id": "6c3495db",
   "metadata": {},
   "source": [
    "<b>Q2. Calculate the transpose of matrix F and store the result in matrix G.\n"
   ]
  },
  {
   "cell_type": "code",
   "execution_count": 15,
   "id": "9b16fe00",
   "metadata": {},
   "outputs": [
    {
     "data": {
      "text/plain": [
       "array([[0.47360432, 0.22871578, 0.25199342],\n",
       "       [0.76139164, 0.03727865, 0.975832  ],\n",
       "       [0.8667531 , 0.11786652, 0.00415921]], dtype=float32)"
      ]
     },
     "execution_count": 15,
     "metadata": {},
     "output_type": "execute_result"
    }
   ],
   "source": [
    "G = tf.transpose(F)\n",
    "G\n",
    "G.numpy()"
   ]
  },
  {
   "cell_type": "markdown",
   "id": "95cba398",
   "metadata": {},
   "source": [
    "<B>Q3. Calculate the element-wise exponential of matrix F and store the result in matrix H."
   ]
  },
  {
   "cell_type": "code",
   "execution_count": 16,
   "id": "740942a4",
   "metadata": {},
   "outputs": [
    {
     "data": {
      "text/plain": [
       "array([[1.6057715, 2.141254 , 2.3791733],\n",
       "       [1.2569847, 1.0379822, 1.1250939],\n",
       "       [1.2865876, 2.653374 , 1.0041679]], dtype=float32)"
      ]
     },
     "execution_count": 16,
     "metadata": {},
     "output_type": "execute_result"
    }
   ],
   "source": [
    "H = tf.exp(F)\n",
    "H.numpy()"
   ]
  },
  {
   "cell_type": "markdown",
   "id": "812f4ed2",
   "metadata": {},
   "source": [
    "<b>Q4. Create a matrix I by concatenating matrix F and matrix G horizontally."
   ]
  },
  {
   "cell_type": "code",
   "execution_count": 17,
   "id": "cae5b4f6",
   "metadata": {},
   "outputs": [
    {
     "data": {
      "text/plain": [
       "array([[0.47360432, 0.76139164, 0.8667531 , 0.47360432, 0.22871578,\n",
       "        0.25199342],\n",
       "       [0.22871578, 0.03727865, 0.11786652, 0.76139164, 0.03727865,\n",
       "        0.975832  ],\n",
       "       [0.25199342, 0.975832  , 0.00415921, 0.8667531 , 0.11786652,\n",
       "        0.00415921]], dtype=float32)"
      ]
     },
     "execution_count": 17,
     "metadata": {},
     "output_type": "execute_result"
    }
   ],
   "source": [
    "I = tf.concat([F, G], axis=1)\n",
    "I.numpy()"
   ]
  },
  {
   "cell_type": "markdown",
   "id": "b512b3bf",
   "metadata": {},
   "source": [
    "<B>Q5. Create a matrix J by concatenating matrix F and matrix H vertically.\n"
   ]
  },
  {
   "cell_type": "code",
   "execution_count": 18,
   "id": "cdea8dd7",
   "metadata": {},
   "outputs": [
    {
     "data": {
      "text/plain": [
       "array([[0.47360432, 0.76139164, 0.8667531 ],\n",
       "       [0.22871578, 0.03727865, 0.11786652],\n",
       "       [0.25199342, 0.975832  , 0.00415921],\n",
       "       [1.6057715 , 2.141254  , 2.3791733 ],\n",
       "       [1.2569847 , 1.0379822 , 1.1250939 ],\n",
       "       [1.2865876 , 2.653374  , 1.0041679 ]], dtype=float32)"
      ]
     },
     "execution_count": 18,
     "metadata": {},
     "output_type": "execute_result"
    }
   ],
   "source": [
    "J = tf.concat([F,H],axis = 0)\n",
    "J.numpy()"
   ]
  },
  {
   "cell_type": "code",
   "execution_count": null,
   "id": "66d950f5",
   "metadata": {},
   "outputs": [],
   "source": []
  }
 ],
 "metadata": {
  "kernelspec": {
   "display_name": "Python 3 (ipykernel)",
   "language": "python",
   "name": "python3"
  },
  "language_info": {
   "codemirror_mode": {
    "name": "ipython",
    "version": 3
   },
   "file_extension": ".py",
   "mimetype": "text/x-python",
   "name": "python",
   "nbconvert_exporter": "python",
   "pygments_lexer": "ipython3",
   "version": "3.11.3"
  }
 },
 "nbformat": 4,
 "nbformat_minor": 5
}
