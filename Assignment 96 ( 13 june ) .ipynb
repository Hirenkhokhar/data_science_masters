{
 "cells": [
  {
   "cell_type": "markdown",
   "id": "c33343b1",
   "metadata": {},
   "source": [
    "## Part 1: Understanding Weight Initialization\n",
    "<b>Q1. Explain the importance of weight initialization in artificial neural networks. Why is it necessary to initialize the weights carefully?"
   ]
  },
  {
   "cell_type": "markdown",
   "id": "98bdc923",
   "metadata": {},
   "source": [
    "The primary reasons for careful weight initialization are as follows:\n",
    "Breaking symmetry: In ANNs, neurons within a layer are interconnected, and each connection has a corresponding weight. If all the weights are initialized to the same value, the neurons will compute the same outputs, and consequently, the network will fail to learn meaningful patterns. By carefully initializing the weights, we can break this symmetry and introduce diversity in the computations performed by different neurons, enabling effective learning.\n",
    "\n",
    "Promoting convergence: Weight initialization can influence the convergence speed and the likelihood of getting stuck in suboptimal solutions during training. Initializing the weights close to zero can lead to slow convergence because neurons may exhibit similar behaviors, causing gradients to be small. On the other hand, initializing weights too large can result in overshooting and unstable training. By setting appropriate initial weights, we can facilitate faster convergence to an optimal solution.\n",
    "\n",
    "Avoiding vanishing/exploding gradients: During backpropagation, gradients are propagated through the network to update the weights. If the initial weights are too large, the gradients can explode, causing numerical instability and making it challenging to train the network. Conversely, if the weights are too small, the gradients can vanish, making it difficult for the network to learn. Proper weight initialization methods aim to prevent these issues by ensuring the gradients remain within a reasonable range throughout training.\n",
    "\n",
    "Handling different activation functions: The choice of activation function in ANNs affects how the weights should be initialized. For example, activation functions like sigmoid and hyperbolic tangent have saturation regions where their gradients are close to zero. In such cases, specific initialization techniques, like Xavier/Glorot initialization, are designed to mitigate the vanishing gradient problem associated with these activation functions."
   ]
  },
  {
   "cell_type": "markdown",
   "id": "a1785eb2",
   "metadata": {},
   "source": [
    "<b>Q2. Describe the challenges associated with improper weight initialization. How do these issues affect model training and convergence?"
   ]
  },
  {
   "cell_type": "markdown",
   "id": "7e743b36",
   "metadata": {},
   "source": [
    "Improper weight initialization can lead to several challenges during model training, affecting convergence and overall performance. Here are some of the key issues associated with improper weight initialization:\n",
    "Vanishing gradients: When weights are initialized to very small values, especially in deep networks, the gradients computed during backpropagation tend to become extremely small as they propagate through the layers. As a result, the network has difficulty learning and updating the earlier layers effectively. This phenomenon is known as the vanishing gradient problem. It hampers the convergence of the network and leads to slow learning or even stagnation.\n",
    "\n",
    "Exploding gradients: On the opposite end of the spectrum, when weights are initialized to large values, the gradients during backpropagation can become extremely large. This causes the updates to the weights to be excessively large, leading to unstable training and divergence. The exploding gradient problem makes it challenging for the network to converge to a good solution.\n",
    "\n",
    "Saturation of activation functions: Some activation functions, such as the sigmoid or hyperbolic tangent, have saturation regions where the gradients become very small. When weights are not properly initialized, the activations in these regions are likely to occur frequently, resulting in the gradients being close to zero. This saturation effect hinders the learning process as the network fails to propagate meaningful gradients, leading to slow convergence or stagnation.\n",
    "\n",
    "Symmetry breaking and redundancy: Improper weight initialization can result in symmetry among neurons in a layer. If multiple neurons have the same weights, they will compute the same outputs, rendering some neurons redundant. This symmetry restricts the capacity of the network to learn diverse and expressive representations, limiting its performance.\n",
    "\n",
    "Stuck in poor local optima: Inadequate weight initialization can cause the network to get stuck in poor local optima during the optimization process. If the initial weights lead the network towards an unfavorable region of the loss landscape, it becomes challenging to escape from it and find better solutions. Proper weight initialization helps avoid such situations and enables the network to explore the parameter space more effectively."
   ]
  },
  {
   "cell_type": "markdown",
   "id": "70019ae5",
   "metadata": {},
   "source": [
    "<b>Q3. Discuss the concept of variance and how it relates to weight initialization. Why is it crucial to consider the variance of weights during initialization?"
   ]
  },
  {
   "cell_type": "markdown",
   "id": "844aaba2",
   "metadata": {},
   "source": [
    "In weight initialization, variance refers to the statistical measure of the spread or dispersion of the weights' values. Considering the variance of weights during initialization is crucial for several reasons:\n",
    "Activation scaling: The variance of weights affects the activation scaling in a neural network. Activation scaling refers to how the activations change as they pass through the layers. When initializing weights, if the variance is too high, it can lead to activations that are significantly larger, potentially causing instability and saturation of activation functions. On the other hand, if the variance is too low, the activations may become too small, resulting in limited expressiveness and slow learning. By appropriately setting the variance, we can ensure a suitable range of activations that facilitate effective information flow.\n",
    "\n",
    "Gradient propagation: During backpropagation, gradients are computed and propagated through the network to update the weights. The variance of the weights influences the magnitude of the gradients. If the variance is too high, the gradients can become too large, leading to unstable training and divergence. Conversely, if the variance is too low, the gradients may become too small, impeding the flow of useful information for learning. By considering the variance, we aim to maintain gradients within a reasonable range to ensure stable and effective gradient propagation.\n",
    "\n",
    "Avoiding vanishing/exploding gradients: The variance of weights is closely related to the occurrence of vanishing or exploding gradients. When initializing weights, if the variance is too high, it increases the likelihood of gradients exploding during backpropagation, making it difficult to train the network. Conversely, if the variance is too low, the gradients may vanish, hindering learning. By controlling the variance, we can mitigate the issues of vanishing and exploding gradients and facilitate stable and effective training.\n",
    "\n",
    "Network capacity and expressiveness: The variance of weights influences the capacity and expressiveness of a neural network. Higher variance allows the network to have larger weight values, which enables it to represent complex and diverse patterns. On the other hand, lower variance constrains the weights to smaller values, limiting the network's capacity to learn and represent complex relationships in the data. By appropriately setting the variance, we can balance the network's capacity and ensure it has the flexibility to learn a wide range of patterns."
   ]
  },
  {
   "cell_type": "markdown",
   "id": "694690b2",
   "metadata": {},
   "source": [
    "## Part 2: Weight Initialization Techniques\n",
    "<b>Q4. Explain the concept of zero initialization. Discuss its potential limitations and when it can be appropriate to use"
   ]
  },
  {
   "cell_type": "markdown",
   "id": "45ccbbd2",
   "metadata": {},
   "source": [
    "Zero initialization, as the name suggests, initializes all the weights in a neural network to zero. It is one of the simplest weight initialization techniques. Zero initialization has some potential limitations and is not always appropriate, but it can be useful in certain situations.\n",
    "The concept of zero initialization involves setting all the weights to zero before training the network. The motivation behind this approach is to start with a neutral state where all the neurons are equally contributing to the computations.\n",
    "However, zero initialization suffers from a few limitations:\n",
    "Symmetry problem: Initializing all weights to zero leads to a symmetric initialization, where all neurons in a layer compute the same outputs. As a result, during backpropagation, all the neurons will receive the same gradients and update their weights in the same way. This symmetry can persist throughout training and limit the expressive power of the network, as the neurons fail to learn distinct and diverse representations.\n",
    "\n",
    "Stuck in local optima: Zero initialization can cause the network to get stuck in poor local optima during training. Since all the weights have the same value initially, the network's capacity to explore different regions of the weight space is limited. This restriction can hinder the ability of the network to find better solutions and result in suboptimal performance.\n",
    "\n",
    "Vanishing gradients: Zero initialization can lead to the vanishing gradient problem, particularly when using activation functions like sigmoid or hyperbolic tangent. In these cases, when the weights are initialized to zero, the gradients computed during backpropagation can become extremely small, impeding the flow of useful information for learning and slowing down convergence."
   ]
  },
  {
   "cell_type": "markdown",
   "id": "a67c2936",
   "metadata": {},
   "source": [
    "Despite these limitations, zero initialization can be appropriate in certain scenarios:\n",
    "Bias initialization: Zero initialization is commonly used for initializing the biases in a neural network. Since biases are added to the activations before applying the activation function, initializing them to zero ensures that the initial activations are not biased.\n",
    "\n",
    "Transfer learning and fine-tuning: In transfer learning, where pre-trained weights from a different task or domain are used, zero initialization can be suitable for fine-tuning specific layers. By initializing the weights to zero in these layers, the network can retain the knowledge from the pre-trained weights while allowing further adaptation to the new task or domain."
   ]
  },
  {
   "cell_type": "markdown",
   "id": "212d8484",
   "metadata": {},
   "source": [
    "<B>Q5. Describe the process of random initialization. How can random initialization be adjusted to mitigate potential issues like saturation or vanishing/exploding gradients?\n",
    "\n",
    "Random initialization involves setting the weights of a neural network to random values. It is a commonly used technique to break symmetry and introduce diversity in the computations performed by different neurons.\n",
    "The process of random initialization typically follows these steps:\n",
    "Choosing a random distribution: The first step in random initialization is to choose a probability distribution from which the random values will be drawn. The two most commonly used distributions are the uniform distribution and the Gaussian (normal) distribution.\n",
    "\n",
    "Setting the range of random values: Once the distribution is determined, the next step is to define the range or scale of the random values. This range should be carefully selected to balance the avoidance of saturation or vanishing/exploding gradients while allowing effective learning.\n",
    "\n",
    "To mitigate potential issues like saturation or vanishing/exploding gradients, the following adjustments can be made during random initialization:\n",
    "Adjusting the scale of random values: The scale of random values can be adjusted by multiplying them with a carefully chosen scaling factor. This scaling factor should be based on the activation function used in the network. For example, in the case of the sigmoid or hyperbolic tangent activation functions, a common approach is to scale the random values by a factor of the square root of 1/n, where n is the number of inputs to a neuron. This adjustment helps to prevent saturation of the activation functions and avoid vanishing or exploding gradients.\n",
    "\n",
    "Using specific initialization methods: There are specific initialization methods that have been designed to address the saturation or vanishing/exploding gradient problems associated with certain activation functions. For example, Xavier/Glorot initialization sets the scale of random values based on the number of inputs and outputs of a neuron, considering the nonlinearity of the activation function. Similarly, He initialization is suitable for activation functions like ReLU and its variants. These initialization methods adjust the random values to ensure effective learning and stable training.\n",
    "\n",
    "Variance scaling: Another approach is to adjust the variance of random values based on the number of inputs to a neuron. This approach is used in methods like LeCun initialization, which scales the random values by a factor proportional to the square root of 1/n. By appropriately scaling the variance, the range of random values is adjusted to promote stable learning and avoid saturation or vanishing/exploding gradients.\n",
    "\n",
    "<b>Q6. Discuss the concept of Xavier/Glorot initialization. Explain how it addresses the challenges of improper weight initialization and the underlying theory behind it.\n",
    "\n",
    "Xavier/Glorot initialization, introduced by Xavier Glorot and Yoshua Bengio, is a weight initialization technique designed to address the challenges of improper weight initialization, specifically related to the vanishing and exploding gradient problems. It aims to set the initial weights in a way that ensures effective learning and stable training in deep neural networks.\n",
    "The underlying theory behind Xavier/Glorot initialization is based on maintaining a consistent variance of activations and gradients across layers. The initialization is derived from the assumption that the input and output of each layer should have similar variances to facilitate the flow of gradients during backpropagation without vanishing or exploding.\n",
    "The Xavier/Glorot initialization method determines the scale of random weights by considering the number of inputs and outputs of a layer. It ensures that the variance of the weights is inversely proportional to the number of inputs, ensuring a reasonable range of activations and gradients throughout the network.\n",
    "The initialization process involves drawing random values from a distribution with zero mean and a specific variance. For a layer with n inputs and m outputs, the variance of the random values is calculated as:\n",
    "  variance = 2 / (n + m)\n",
    "\n",
    "To set the scale of the random values, the weights are sampled from a distribution with zero mean and a standard deviation equal to the square root of the variance:\n",
    " weight = random_value * sqrt(variance)\n",
    "\n",
    "The choice of variance in Xavier/Glorot initialization is based on theoretical considerations, taking into account the activation functions and the number of inputs/outputs. It helps in addressing the challenges of improper initialization:\n",
    "Vanishing gradients: By considering the number of inputs, Xavier/Glorot initialization ensures that the variance of weights is appropriate to prevent the gradients from vanishing. It allows for efficient gradient flow, especially when using activation functions like sigmoid or hyperbolic tangent, which have saturation regions with small gradients.\n",
    "\n",
    "Exploding gradients: By also considering the number of outputs, Xavier/Glorot initialization helps prevent the gradients from exploding. The scaled weights ensure that the gradients are controlled and do not lead to unstable training.\n",
    "\n",
    "Balance between layers: Xavier/Glorot initialization maintains a balance in the variance of activations and gradients across layers. This balance helps ensure that each layer neither saturates nor inhibits the flow of gradients, promoting stable and effective learning.\n",
    "\n",
    "<b>Q7. Explain the concept of He initialization. How does it differ from Xavier initialization, and when is it preferred?\n",
    "\n",
    "He initialization, named after Kaiming He, is a weight initialization technique designed for neural networks that use activation functions like ReLU (Rectified Linear Unit) and its variants. It addresses the challenges associated with improper weight initialization and is particularly effective for networks with deep architectures.\n",
    "The concept of He initialization is based on the variance of activations in a network. It recognizes that activation functions like ReLU have a range of activations where the gradients are non-zero and the activations are more likely to be expressive. Therefore, He initialization adjusts the variance of weights to match the characteristics of these activation functions.\n",
    "He initialization determines the scale of random weights by considering the number of inputs to a layer. For a layer with n inputs, the variance of the random values is calculated as:\n",
    "variance = 2 / n\n",
    "\n",
    "To set the scale of the random values, the weights are sampled from a distribution with zero mean and a standard deviation equal to the square root of the variance:\n",
    "weight = random_value * sqrt(variance)\n",
    "\n",
    "On the other hand, Xavier initialization, introduced by Xavier Glorot and Yoshua Bengio, is a weight initialization technique that considers both the number of inputs and the number of outputs of a layer to determine the variance of weights. It aims to maintain a consistent variance of activations and gradients across layers, assuming a linear activation function.\n",
    "The key difference between He initialization and Xavier initialization lies in the way they adjust the variance of weights. He initialization only considers the number of inputs to a layer, while Xavier initialization takes into account both the number of inputs and the number of outputs. This difference is based on the assumption that ReLU-like activation functions double the variance of activations compared to linear activation functions.\n",
    "He initialization is preferred when using ReLU and its variants as activation functions. These activation functions are popular in deep neural networks due to their ability to mitigate the vanishing gradient problem and facilitate the training of deep architectures. By setting the initial weights with appropriate variances, He initialization ensures that the activations and gradients are maintained within a suitable range, promoting effective learning and stable training for networks using ReLU.\n",
    "In summary, He initialization adjusts the variance of weights based on the number of inputs to a layer and is specifically designed for networks with ReLU-like activation functions. It differs from Xavier initialization by considering only the number of inputs, rather than both inputs and outputs. He initialization is preferred in networks using ReLU and its variants, as it ensures appropriate variance for activations and gradients, facilitating efficient learning and convergence in deep neural networks.\n",
    "    \n",
    "\n"
   ]
  },
  {
   "cell_type": "markdown",
   "id": "85260662",
   "metadata": {},
   "source": [
    "## Part 3: Applying Weight Initialization"
   ]
  },
  {
   "cell_type": "markdown",
   "id": "d0d4f160",
   "metadata": {},
   "source": [
    "<b>Q8. Implement different weight initialization techniques (zero initialization, random initialization, Xavier initialization, and He initialization) in a neural network using a framework of your choice. Train the model on a suitable dataset and compare the performance of the initialized models."
   ]
  },
  {
   "cell_type": "code",
   "execution_count": 4,
   "id": "0c14d0a6",
   "metadata": {},
   "outputs": [],
   "source": [
    "import tensorflow\n",
    "from tensorflow import keras\n",
    "from tensorflow.keras import Sequential ,regularizers ,initializers\n",
    "from tensorflow.keras.layers import Dense , Flatten ,Dropout\n"
   ]
  },
  {
   "cell_type": "code",
   "execution_count": 5,
   "id": "11fc3557",
   "metadata": {},
   "outputs": [],
   "source": [
    "(X_train,y_train),(X_test,y_test) = keras.datasets.mnist.load_data()\n",
    "X_train = X_train/255\n",
    "X_test = X_test/255"
   ]
  },
  {
   "cell_type": "markdown",
   "id": "bab6af1c",
   "metadata": {},
   "source": [
    "## zero initialization"
   ]
  },
  {
   "cell_type": "code",
   "execution_count": 10,
   "id": "8134b238",
   "metadata": {},
   "outputs": [
    {
     "name": "stdout",
     "output_type": "stream",
     "text": [
      "Epoch 1/10\n",
      "1500/1500 [==============================] - 4s 2ms/step - loss: 2.3014 - accuracy: 0.1131 - val_loss: 2.3021 - val_accuracy: 0.1060\n",
      "Epoch 2/10\n",
      "1500/1500 [==============================] - 3s 2ms/step - loss: 2.3011 - accuracy: 0.1140 - val_loss: 2.3025 - val_accuracy: 0.1060\n",
      "Epoch 3/10\n",
      "1500/1500 [==============================] - 4s 2ms/step - loss: 2.3012 - accuracy: 0.1140 - val_loss: 2.3021 - val_accuracy: 0.1060\n",
      "Epoch 4/10\n",
      "1500/1500 [==============================] - 4s 2ms/step - loss: 2.3011 - accuracy: 0.1140 - val_loss: 2.3021 - val_accuracy: 0.1060\n",
      "Epoch 5/10\n",
      "1500/1500 [==============================] - 4s 2ms/step - loss: 2.3011 - accuracy: 0.1140 - val_loss: 2.3022 - val_accuracy: 0.1060\n",
      "Epoch 6/10\n",
      "1500/1500 [==============================] - 4s 2ms/step - loss: 2.3012 - accuracy: 0.1140 - val_loss: 2.3022 - val_accuracy: 0.1060\n",
      "Epoch 7/10\n",
      "1500/1500 [==============================] - 4s 2ms/step - loss: 2.3011 - accuracy: 0.1140 - val_loss: 2.3024 - val_accuracy: 0.1060\n",
      "Epoch 8/10\n",
      "1500/1500 [==============================] - 4s 2ms/step - loss: 2.3012 - accuracy: 0.1140 - val_loss: 2.3021 - val_accuracy: 0.1060\n",
      "Epoch 9/10\n",
      "1500/1500 [==============================] - 4s 2ms/step - loss: 2.3012 - accuracy: 0.1140 - val_loss: 2.3021 - val_accuracy: 0.1060\n",
      "Epoch 10/10\n",
      "1500/1500 [==============================] - 4s 3ms/step - loss: 2.3011 - accuracy: 0.1140 - val_loss: 2.3021 - val_accuracy: 0.1060\n"
     ]
    }
   ],
   "source": [
    "model = Sequential()\n",
    "model.add(Flatten(input_shape=(28,28)))\n",
    "model.add(Dense(128,activation= 'relu', kernel_initializer = initializers.Zeros()))\n",
    "model.add(Dropout(0.2))\n",
    "model.add(Dense(128,activation= 'relu', kernel_initializer = initializers.Zeros()))\n",
    "model.add(Dropout(0.2))\n",
    "model.add(Dense(128,activation= 'relu', kernel_initializer = initializers.Zeros()))\n",
    "model.add(Dropout(0.2))\n",
    "model.add(Dense(10,activation = 'softmax'))\n",
    "\n",
    "model.compile(loss = 'sparse_categorical_crossentropy',optimizer = 'Adam',metrics = ['accuracy'])\n",
    "history = model.fit(X_train,y_train,epochs=10,validation_split=0.2)"
   ]
  },
  {
   "cell_type": "code",
   "execution_count": 11,
   "id": "ca47993f",
   "metadata": {},
   "outputs": [
    {
     "name": "stdout",
     "output_type": "stream",
     "text": [
      "313/313 [==============================] - 0s 1ms/step - loss: 2.3010 - accuracy: 0.1135\n"
     ]
    },
    {
     "data": {
      "text/plain": [
       "[2.3010098934173584, 0.11349999904632568]"
      ]
     },
     "execution_count": 11,
     "metadata": {},
     "output_type": "execute_result"
    }
   ],
   "source": [
    "model.evaluate(X_test, y_test)"
   ]
  },
  {
   "cell_type": "markdown",
   "id": "477e9cdb",
   "metadata": {},
   "source": [
    "## random initialization"
   ]
  },
  {
   "cell_type": "code",
   "execution_count": 12,
   "id": "1ee4c04e",
   "metadata": {},
   "outputs": [
    {
     "name": "stdout",
     "output_type": "stream",
     "text": [
      "Epoch 1/10\n",
      "1500/1500 [==============================] - 4s 2ms/step - loss: 106.2983 - accuracy: 0.4795 - val_loss: 5.6741 - val_accuracy: 0.7853\n",
      "Epoch 2/10\n",
      "1500/1500 [==============================] - 3s 2ms/step - loss: 9.1800 - accuracy: 0.6045 - val_loss: 1.3187 - val_accuracy: 0.7348\n",
      "Epoch 3/10\n",
      "1500/1500 [==============================] - 3s 2ms/step - loss: 2.6530 - accuracy: 0.5895 - val_loss: 0.7698 - val_accuracy: 0.7700\n",
      "Epoch 4/10\n",
      "1500/1500 [==============================] - 4s 3ms/step - loss: 1.8799 - accuracy: 0.6155 - val_loss: 0.7956 - val_accuracy: 0.7548\n",
      "Epoch 5/10\n",
      "1500/1500 [==============================] - 3s 2ms/step - loss: 1.4829 - accuracy: 0.6481 - val_loss: 0.5993 - val_accuracy: 0.8198\n",
      "Epoch 6/10\n",
      "1500/1500 [==============================] - 4s 2ms/step - loss: 1.1394 - accuracy: 0.6960 - val_loss: 0.5324 - val_accuracy: 0.8350\n",
      "Epoch 7/10\n",
      "1500/1500 [==============================] - 4s 3ms/step - loss: 0.9194 - accuracy: 0.7466 - val_loss: 0.4613 - val_accuracy: 0.8617\n",
      "Epoch 8/10\n",
      "1500/1500 [==============================] - 4s 2ms/step - loss: 0.7566 - accuracy: 0.7873 - val_loss: 0.4186 - val_accuracy: 0.8798\n",
      "Epoch 9/10\n",
      "1500/1500 [==============================] - 4s 3ms/step - loss: 0.6609 - accuracy: 0.8173 - val_loss: 0.3516 - val_accuracy: 0.8983\n",
      "Epoch 10/10\n",
      "1500/1500 [==============================] - 4s 2ms/step - loss: 0.5819 - accuracy: 0.8378 - val_loss: 0.3282 - val_accuracy: 0.9113\n"
     ]
    }
   ],
   "source": [
    "model = Sequential()\n",
    "model.add(Flatten(input_shape=(28,28)))\n",
    "model.add(Dense(128,activation= 'relu', kernel_initializer = initializers.RandomNormal(mean=0., stddev=1.)))\n",
    "model.add(Dropout(0.2))\n",
    "model.add(Dense(128,activation= 'relu', kernel_initializer = initializers.RandomNormal(mean=0., stddev=1.)))\n",
    "model.add(Dropout(0.2))\n",
    "model.add(Dense(128,activation= 'relu', kernel_initializer = initializers.RandomNormal(mean=0., stddev=1.)))\n",
    "model.add(Dropout(0.2))\n",
    "model.add(Dense(10,activation = 'softmax'))\n",
    "\n",
    "model.compile(loss = 'sparse_categorical_crossentropy',optimizer = 'Adam',metrics = ['accuracy'])\n",
    "history = model.fit(X_train,y_train,epochs=10,validation_split=0.2)"
   ]
  },
  {
   "cell_type": "code",
   "execution_count": 13,
   "id": "9a88204d",
   "metadata": {},
   "outputs": [
    {
     "name": "stdout",
     "output_type": "stream",
     "text": [
      "313/313 [==============================] - 0s 1ms/step - loss: 0.3405 - accuracy: 0.9049\n"
     ]
    },
    {
     "data": {
      "text/plain": [
       "[0.3404518961906433, 0.9049000144004822]"
      ]
     },
     "execution_count": 13,
     "metadata": {},
     "output_type": "execute_result"
    }
   ],
   "source": [
    "model.evaluate(X_test, y_test)"
   ]
  },
  {
   "cell_type": "markdown",
   "id": "08c7e272",
   "metadata": {},
   "source": [
    "## Xavier initialization"
   ]
  },
  {
   "cell_type": "code",
   "execution_count": 14,
   "id": "1084b981",
   "metadata": {},
   "outputs": [
    {
     "name": "stdout",
     "output_type": "stream",
     "text": [
      "Epoch 1/10\n",
      "1500/1500 [==============================] - 4s 2ms/step - loss: 0.3645 - accuracy: 0.8904 - val_loss: 0.2091 - val_accuracy: 0.9368\n",
      "Epoch 2/10\n",
      "1500/1500 [==============================] - 4s 2ms/step - loss: 0.2169 - accuracy: 0.9337 - val_loss: 0.1614 - val_accuracy: 0.9521\n",
      "Epoch 3/10\n",
      "1500/1500 [==============================] - 4s 2ms/step - loss: 0.1712 - accuracy: 0.9489 - val_loss: 0.1294 - val_accuracy: 0.9623\n",
      "Epoch 4/10\n",
      "1500/1500 [==============================] - 4s 3ms/step - loss: 0.1476 - accuracy: 0.9548 - val_loss: 0.1281 - val_accuracy: 0.9623\n",
      "Epoch 5/10\n",
      "1500/1500 [==============================] - 4s 3ms/step - loss: 0.1308 - accuracy: 0.9605 - val_loss: 0.1204 - val_accuracy: 0.9648\n",
      "Epoch 6/10\n",
      "1500/1500 [==============================] - 4s 2ms/step - loss: 0.1176 - accuracy: 0.9635 - val_loss: 0.1043 - val_accuracy: 0.9694\n",
      "Epoch 7/10\n",
      "1500/1500 [==============================] - 4s 2ms/step - loss: 0.1066 - accuracy: 0.9663 - val_loss: 0.1037 - val_accuracy: 0.9700\n",
      "Epoch 8/10\n",
      "1500/1500 [==============================] - 4s 3ms/step - loss: 0.0954 - accuracy: 0.9705 - val_loss: 0.1046 - val_accuracy: 0.9695\n",
      "Epoch 9/10\n",
      "1500/1500 [==============================] - 4s 2ms/step - loss: 0.0899 - accuracy: 0.9719 - val_loss: 0.1085 - val_accuracy: 0.9707\n",
      "Epoch 10/10\n",
      "1500/1500 [==============================] - 4s 2ms/step - loss: 0.0884 - accuracy: 0.9720 - val_loss: 0.1008 - val_accuracy: 0.9712\n"
     ]
    }
   ],
   "source": [
    "model = Sequential()\n",
    "model.add(Flatten(input_shape=(28,28)))\n",
    "model.add(Dense(128,activation= 'tanh', kernel_initializer = initializers.GlorotNormal()))\n",
    "model.add(Dropout(0.2))\n",
    "model.add(Dense(128,activation= 'tanh', kernel_initializer = initializers.GlorotNormal()))\n",
    "model.add(Dropout(0.2))\n",
    "model.add(Dense(128,activation= 'tanh', kernel_initializer = initializers.GlorotNormal()))\n",
    "model.add(Dropout(0.2))\n",
    "model.add(Dense(10,activation = 'softmax'))\n",
    "\n",
    "model.compile(loss = 'sparse_categorical_crossentropy',optimizer = 'Adam',metrics = ['accuracy'])\n",
    "history = model.fit(X_train,y_train,epochs=10,validation_split=0.2)"
   ]
  },
  {
   "cell_type": "code",
   "execution_count": 15,
   "id": "c08a7a4d",
   "metadata": {},
   "outputs": [
    {
     "name": "stdout",
     "output_type": "stream",
     "text": [
      "313/313 [==============================] - 0s 1ms/step - loss: 0.0892 - accuracy: 0.9746\n"
     ]
    },
    {
     "data": {
      "text/plain": [
       "[0.08920677751302719, 0.9746000170707703]"
      ]
     },
     "execution_count": 15,
     "metadata": {},
     "output_type": "execute_result"
    }
   ],
   "source": [
    "model.evaluate(X_test, y_test)"
   ]
  },
  {
   "cell_type": "markdown",
   "id": "af717f68",
   "metadata": {},
   "source": [
    "## He initialization"
   ]
  },
  {
   "cell_type": "code",
   "execution_count": 16,
   "id": "16ab540d",
   "metadata": {},
   "outputs": [
    {
     "name": "stdout",
     "output_type": "stream",
     "text": [
      "Epoch 1/10\n",
      "1500/1500 [==============================] - 4s 2ms/step - loss: 0.3894 - accuracy: 0.8806 - val_loss: 0.1648 - val_accuracy: 0.9518\n",
      "Epoch 2/10\n",
      "1500/1500 [==============================] - 3s 2ms/step - loss: 0.1861 - accuracy: 0.9445 - val_loss: 0.1227 - val_accuracy: 0.9621\n",
      "Epoch 3/10\n",
      "1500/1500 [==============================] - 3s 2ms/step - loss: 0.1487 - accuracy: 0.9560 - val_loss: 0.1143 - val_accuracy: 0.9659\n",
      "Epoch 4/10\n",
      "1500/1500 [==============================] - 3s 2ms/step - loss: 0.1235 - accuracy: 0.9629 - val_loss: 0.1067 - val_accuracy: 0.9684\n",
      "Epoch 5/10\n",
      "1500/1500 [==============================] - 3s 2ms/step - loss: 0.1114 - accuracy: 0.9666 - val_loss: 0.1083 - val_accuracy: 0.9679\n",
      "Epoch 6/10\n",
      "1500/1500 [==============================] - 3s 2ms/step - loss: 0.0992 - accuracy: 0.9705 - val_loss: 0.0911 - val_accuracy: 0.9744\n",
      "Epoch 7/10\n",
      "1500/1500 [==============================] - 4s 2ms/step - loss: 0.0935 - accuracy: 0.9717 - val_loss: 0.1026 - val_accuracy: 0.9711\n",
      "Epoch 8/10\n",
      "1500/1500 [==============================] - 4s 3ms/step - loss: 0.0827 - accuracy: 0.9745 - val_loss: 0.0867 - val_accuracy: 0.9753\n",
      "Epoch 9/10\n",
      "1500/1500 [==============================] - 4s 2ms/step - loss: 0.0760 - accuracy: 0.9773 - val_loss: 0.0912 - val_accuracy: 0.9755\n",
      "Epoch 10/10\n",
      "1500/1500 [==============================] - 4s 2ms/step - loss: 0.0735 - accuracy: 0.9767 - val_loss: 0.0837 - val_accuracy: 0.9766\n"
     ]
    }
   ],
   "source": [
    "model = Sequential()\n",
    "model.add(Flatten(input_shape=(28,28)))\n",
    "model.add(Dense(128,activation= 'relu', kernel_initializer = initializers.HeNormal()))\n",
    "model.add(Dropout(0.2))\n",
    "model.add(Dense(128,activation= 'relu', kernel_initializer = initializers.HeNormal()))\n",
    "model.add(Dropout(0.2))\n",
    "model.add(Dense(128,activation= 'relu', kernel_initializer = initializers.HeNormal()))\n",
    "model.add(Dropout(0.2))\n",
    "model.add(Dense(10,activation = 'softmax'))\n",
    "\n",
    "model.compile(loss = 'sparse_categorical_crossentropy',optimizer = 'Adam',metrics = ['accuracy'])\n",
    "history = model.fit(X_train,y_train,epochs=10,validation_split=0.2)"
   ]
  },
  {
   "cell_type": "code",
   "execution_count": 17,
   "id": "e3cb065a",
   "metadata": {},
   "outputs": [
    {
     "name": "stdout",
     "output_type": "stream",
     "text": [
      "313/313 [==============================] - 0s 1ms/step - loss: 0.0761 - accuracy: 0.9778\n"
     ]
    },
    {
     "data": {
      "text/plain": [
       "[0.07614770531654358, 0.9778000116348267]"
      ]
     },
     "execution_count": 17,
     "metadata": {},
     "output_type": "execute_result"
    }
   ],
   "source": [
    "model.evaluate(X_test, y_test)"
   ]
  },
  {
   "cell_type": "markdown",
   "id": "33adc763",
   "metadata": {},
   "source": [
    "<b>here ,\n",
    "\n",
    "<b>zero initialization : in this technique we get very less Accuracy\n",
    "\n",
    "<b>random initialization : get good Accuracy as compare zero initialization\n",
    "    \n",
    "<b>Xavier initialization and He initialization both technique is good . we can find accuracy around 97% .\n",
    "    \n",
    "    "
   ]
  },
  {
   "cell_type": "code",
   "execution_count": null,
   "id": "0b8ed181",
   "metadata": {},
   "outputs": [],
   "source": []
  }
 ],
 "metadata": {
  "kernelspec": {
   "display_name": "Python 3 (ipykernel)",
   "language": "python",
   "name": "python3"
  },
  "language_info": {
   "codemirror_mode": {
    "name": "ipython",
    "version": 3
   },
   "file_extension": ".py",
   "mimetype": "text/x-python",
   "name": "python",
   "nbconvert_exporter": "python",
   "pygments_lexer": "ipython3",
   "version": "3.11.3"
  }
 },
 "nbformat": 4,
 "nbformat_minor": 5
}
